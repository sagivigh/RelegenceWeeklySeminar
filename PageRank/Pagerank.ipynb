{
 "metadata": {
  "name": "",
  "signature": "sha256:6823d3301bb35a0be0d3fd96d8cb043d01193a99289dc8dab3852745d6845372"
 },
 "nbformat": 3,
 "nbformat_minor": 0,
 "worksheets": [
  {
   "cells": [
    {
     "cell_type": "heading",
     "level": 1,
     "metadata": {},
     "source": [
      "Mining of Massive Datasets - PageRank"
     ]
    },
    {
     "cell_type": "code",
     "collapsed": false,
     "input": [
      "import networkx as nx"
     ],
     "language": "python",
     "metadata": {},
     "outputs": [],
     "prompt_number": 2
    },
    {
     "cell_type": "heading",
     "level": 2,
     "metadata": {},
     "source": [
      "Example:"
     ]
    },
    {
     "cell_type": "code",
     "collapsed": false,
     "input": [
      "G = nx.DiGraph()\n",
      "G.add_edge('F', 'B')\n",
      "G.add_edge('F', 'E')\n",
      "G.add_edge('E', 'B')\n",
      "G.add_edge('E', 'D')\n",
      "G.add_edge('E', 'F')\n",
      "G.add_edge('D', 'A')\n",
      "G.add_edge('D', 'B')\n",
      "G.add_edge('C', 'B')\n",
      "G.add_edge('B', 'C')\n",
      "G.add_edge('G1', 'F')\n",
      "G.add_edge('G2', 'F')\n",
      "G.add_edge('G3', 'E')\n",
      "G.add_edge('G4', 'E')\n",
      "G.add_edge('G5', 'E')\n",
      "G.add_edge('G3', 'B')\n",
      "G.add_edge('G4', 'B')\n",
      "G.add_edge('G5', 'B')\n",
      "\n",
      "ranks = nx.pagerank(G, max_iter = 200)\n",
      "ranks = {id:100*r for (id,r) in ranks.items()}\n",
      "ranks"
     ],
     "language": "python",
     "metadata": {},
     "outputs": [
      {
       "metadata": {},
       "output_type": "pyout",
       "prompt_number": 3,
       "text": [
        "{'A': 3.024679028033108,\n",
        " 'B': 38.78023770752343,\n",
        " 'C': 34.56056397843077,\n",
        " 'D': 3.3583940394729526,\n",
        " 'E': 6.215408746644173,\n",
        " 'F': 6.073908693610029,\n",
        " 'G1': 1.597361561257104,\n",
        " 'G2': 1.597361561257104,\n",
        " 'G3': 1.597361561257104,\n",
        " 'G4': 1.597361561257104,\n",
        " 'G5': 1.597361561257104}"
       ]
      }
     ],
     "prompt_number": 3
    },
    {
     "cell_type": "heading",
     "level": 2,
     "metadata": {},
     "source": [
      "Solving the flow equations:"
     ]
    },
    {
     "cell_type": "code",
     "collapsed": false,
     "input": [
      "G = nx.DiGraph()\n",
      "G.add_edge('y', 'y')\n",
      "G.add_edge('a', 'y')\n",
      "G.add_edge('y', 'a')\n",
      "G.add_edge('m', 'a')\n",
      "G.add_edge('a', 'm')\n",
      "\n",
      "ranks = nx.pagerank(G, max_iter = 200)\n",
      "ranks"
     ],
     "language": "python",
     "metadata": {},
     "outputs": [
      {
       "metadata": {},
       "output_type": "pyout",
       "prompt_number": 4,
       "text": [
        "{'a': 0.39879457405360386, 'm': 0.21948769557545744, 'y': 0.3817177303709387}"
       ]
      }
     ],
     "prompt_number": 4
    },
    {
     "cell_type": "code",
     "collapsed": false,
     "input": [
      "a = np.array([[0.5,0,-0.5], [0.5,-1,0], [1,1,1]])\n",
      "b = np.array([0,0,1])\n",
      "x = np.linalg.solve(a, b)\n",
      "x\n"
     ],
     "language": "python",
     "metadata": {},
     "outputs": [
      {
       "metadata": {},
       "output_type": "pyout",
       "prompt_number": 5,
       "text": [
        "array([ 0.4,  0.2,  0.4])"
       ]
      }
     ],
     "prompt_number": 5
    },
    {
     "cell_type": "heading",
     "level": 2,
     "metadata": {},
     "source": [
      "Naive power Iteration implementation"
     ]
    },
    {
     "cell_type": "code",
     "collapsed": false,
     "input": [
      "def first_attempt(G, r0=None, it=100, verbose=False):\n",
      "    out_degree = G.out_degree()\n",
      "\n",
      "    ri = r0 if r0 != None else {name:1.0/len(G) for name in G}\n",
      "    ranks = ri.copy()\n",
      "    for _ in xrange(it):\n",
      "        for name in G:\n",
      "            ri[name] = sum([ranks[p]/out_degree[p] for p in G.predecessors(name)])\n",
      "        ranks = ri.copy()\n",
      "        if verbose:\n",
      "            print ranks\n",
      "    return ranks"
     ],
     "language": "python",
     "metadata": {},
     "outputs": [],
     "prompt_number": 6
    },
    {
     "cell_type": "code",
     "collapsed": false,
     "input": [
      "G = nx.DiGraph()\n",
      "G.add_edge('y', 'y')\n",
      "G.add_edge('a', 'y')\n",
      "G.add_edge('y', 'a')\n",
      "G.add_edge('m', 'a')\n",
      "G.add_edge('a', 'm')\n",
      "\n",
      "ranks = first_attempt(G)\n",
      "ranks"
     ],
     "language": "python",
     "metadata": {},
     "outputs": [
      {
       "metadata": {},
       "output_type": "pyout",
       "prompt_number": 7,
       "text": [
        "{'a': 0.39999999993259971, 'm': 0.20000000004165552, 'y': 0.40000000002574443}"
       ]
      }
     ],
     "prompt_number": 7
    },
    {
     "cell_type": "heading",
     "level": 2,
     "metadata": {},
     "source": [
      "Spider trap"
     ]
    },
    {
     "cell_type": "code",
     "collapsed": false,
     "input": [
      "G = nx.DiGraph()\n",
      "G.add_edge('a', 'b')\n",
      "G.add_edge('b', 'a')\n",
      "\n",
      "ranks = first_attempt(G, r0={'a':1, 'b':0}, it=5, verbose=True)\n",
      "ranks"
     ],
     "language": "python",
     "metadata": {},
     "outputs": [
      {
       "output_type": "stream",
       "stream": "stdout",
       "text": [
        "{'a': 0, 'b': 1}\n",
        "{'a': 1, 'b': 0}\n",
        "{'a': 0, 'b': 1}\n",
        "{'a': 1, 'b': 0}\n",
        "{'a': 0, 'b': 1}\n"
       ]
      },
      {
       "metadata": {},
       "output_type": "pyout",
       "prompt_number": 8,
       "text": [
        "{'a': 0, 'b': 1}"
       ]
      }
     ],
     "prompt_number": 8
    },
    {
     "cell_type": "heading",
     "level": 2,
     "metadata": {},
     "source": [
      "Dead end"
     ]
    },
    {
     "cell_type": "code",
     "collapsed": false,
     "input": [
      "G = nx.DiGraph()\n",
      "G.add_edge('a', 'b')\n",
      "\n",
      "ranks = first_attempt(G, r0={'a':1, 'b':0}, it=5, verbose=True)\n",
      "ranks"
     ],
     "language": "python",
     "metadata": {},
     "outputs": [
      {
       "output_type": "stream",
       "stream": "stdout",
       "text": [
        "{'a': 0.0, 'b': 1}\n",
        "{'a': 0.0, 'b': 0.0}\n",
        "{'a': 0.0, 'b': 0.0}\n",
        "{'a': 0.0, 'b': 0.0}\n",
        "{'a': 0.0, 'b': 0.0}\n"
       ]
      },
      {
       "metadata": {},
       "output_type": "pyout",
       "prompt_number": 9,
       "text": [
        "{'a': 0.0, 'b': 0.0}"
       ]
      }
     ],
     "prompt_number": 9
    },
    {
     "cell_type": "heading",
     "level": 2,
     "metadata": {},
     "source": [
      "Spider trap 2"
     ]
    },
    {
     "cell_type": "code",
     "collapsed": false,
     "input": [
      "G = nx.DiGraph()\n",
      "G.add_edge('y', 'y')\n",
      "G.add_edge('a', 'y')\n",
      "G.add_edge('y', 'a')\n",
      "G.add_edge('a', 'm')\n",
      "G.add_edge('m', 'm')\n",
      "\n",
      "ranks = first_attempt(G, it=50)\n",
      "ranks"
     ],
     "language": "python",
     "metadata": {},
     "outputs": [
      {
       "metadata": {},
       "output_type": "pyout",
       "prompt_number": 12,
       "text": [
        "{'a': 6.0292544509602878e-06,\n",
        " 'm': 0.9999842152069206,\n",
        " 'y': 9.755538628475332e-06}"
       ]
      }
     ],
     "prompt_number": 12
    },
    {
     "cell_type": "code",
     "collapsed": false,
     "input": [
      "ranks = nx.pagerank(G, max_iter=50)\n",
      "ranks"
     ],
     "language": "python",
     "metadata": {},
     "outputs": [
      {
       "metadata": {},
       "output_type": "pyout",
       "prompt_number": 13,
       "text": [
        "{'a': 0.1267828884553442, 'm': 0.6925514946957173, 'y': 0.1806656168489385}"
       ]
      }
     ],
     "prompt_number": 13
    },
    {
     "cell_type": "heading",
     "level": 2,
     "metadata": {},
     "source": [
      "The complete algorithm"
     ]
    },
    {
     "cell_type": "code",
     "collapsed": false,
     "input": [
      "def pagerank(G, r0=None, beta=0.85, it=100, verbose=False):\n",
      "    N = len(G)\n",
      "    out_degree = G.out_degree()\n",
      "\n",
      "    ranks = ri = r0 if r0 != None else {name:1./N for name in G}\n",
      "    for _ in xrange(it):\n",
      "        for name in G:\n",
      "            ri[name] = beta*sum([ranks[p]/out_degree[p] for p in G.predecessors(name)])\n",
      "        S = sum([r for r in ri.values()])\n",
      "        ranks = {name:r+(1.-S)/N for name,r in ri.items()}\n",
      "        if verbose:\n",
      "            print ranks\n",
      "    return ranks"
     ],
     "language": "python",
     "metadata": {},
     "outputs": [],
     "prompt_number": 21
    },
    {
     "cell_type": "code",
     "collapsed": false,
     "input": [
      "ranks = pagerank(G, it=50)\n",
      "ranks"
     ],
     "language": "python",
     "metadata": {},
     "outputs": [
      {
       "metadata": {},
       "output_type": "pyout",
       "prompt_number": 22,
       "text": [
        "{'a': 0.12678288546406888, 'm': 0.69255150252697784, 'y': 0.18066561200895331}"
       ]
      }
     ],
     "prompt_number": 22
    },
    {
     "cell_type": "code",
     "collapsed": false,
     "input": [
      "nx.pagerank??"
     ],
     "language": "python",
     "metadata": {},
     "outputs": [],
     "prompt_number": 212
    },
    {
     "cell_type": "code",
     "collapsed": false,
     "input": [],
     "language": "python",
     "metadata": {},
     "outputs": [],
     "prompt_number": 33
    },
    {
     "cell_type": "code",
     "collapsed": false,
     "input": [],
     "language": "python",
     "metadata": {},
     "outputs": []
    }
   ],
   "metadata": {}
  }
 ]
}
