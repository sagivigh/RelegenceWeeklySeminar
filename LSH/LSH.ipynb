{
 "metadata": {
  "name": "",
  "signature": "sha256:0e87cd967f2e39593478c07f9b905517f5ea8af7e52e7a0f9712fff3c5c46bce"
 },
 "nbformat": 3,
 "nbformat_minor": 0,
 "worksheets": [
  {
   "cells": [
    {
     "cell_type": "heading",
     "level": 1,
     "metadata": {},
     "source": [
      "Locality-sensitive hashing (LSH)"
     ]
    },
    {
     "cell_type": "code",
     "collapsed": false,
     "input": [
      "from collections import defaultdict\n",
      "import random\n",
      "import json\n",
      "import unirest\n",
      "import re\n",
      "\n",
      "bits = 32\n",
      "n = 100\n",
      "b = 20\n",
      "r = 5"
     ],
     "language": "python",
     "metadata": {},
     "outputs": [],
     "prompt_number": 3
    },
    {
     "cell_type": "heading",
     "level": 2,
     "metadata": {},
     "source": [
      "Creates dataset using Relegence Web Extraction API"
     ]
    },
    {
     "cell_type": "code",
     "collapsed": false,
     "input": [
      "def extact_text(url):\n",
      "    response = unirest.post(\"http://feeds.contenthub.aol.com/taxonomy/3.0/tagger/tag\", \n",
      "                        headers={ \"Token\": \"<YOUR-TOKEN-GOES-HERE>\" },\n",
      "                        params={ \"Url\": url })\n",
      "    return response.body['result']['extractedData']['body']"
     ],
     "language": "python",
     "metadata": {},
     "outputs": [],
     "prompt_number": 23
    },
    {
     "cell_type": "code",
     "collapsed": false,
     "input": [
      "urls = [\n",
      "    \"http://www.theguardian.com/us-news/2015/jan/01/jeb-bush-quits-board-posts-ahead-of-possible-white-house-run-reports\",\n",
      "    \"http://news.yahoo.com/jeb-bush-quits-board-posts-ahead-possible-white-072751405--finance.html\",\n",
      "    \"http://www.reuters.com/article/2015/01/01/us-usa-politics-bush-idUSKBN0KA1D620150101\",\n",
      "    \"http://www.news.com.au/world/north-america/jeb-bush-resigns-from-board-memberships-to-prepare-for-presidency-run/story-fnh81jut-1227172035851\",\n",
      "    \"http://www.bostonglobe.com/opinion/2014/12/29/jeb-bush-politics-joy/mqVQUwAizoWgXGaBAB2QFM/story.html\"\n",
      "]\n",
      "texts = [re.sub('\\s\\s+', ' ', extact_text(url)).strip() for url in urls]"
     ],
     "language": "python",
     "metadata": {},
     "outputs": [],
     "prompt_number": 24
    },
    {
     "cell_type": "heading",
     "level": 2,
     "metadata": {},
     "source": [
      "Use simple string matching to find similaries"
     ]
    },
    {
     "cell_type": "code",
     "collapsed": false,
     "input": [
      "def generate_shingles_strings(text, k):\n",
      "    return [text[j:j+k] for j in range(len(text) - k)]"
     ],
     "language": "python",
     "metadata": {},
     "outputs": [],
     "prompt_number": 6
    },
    {
     "cell_type": "code",
     "collapsed": false,
     "input": [
      "docs = [set(generate_shingles_strings(text, 10)) for text in texts]\n",
      "list(docs[0])[:5]"
     ],
     "language": "python",
     "metadata": {},
     "outputs": [
      {
       "metadata": {},
       "output_type": "pyout",
       "prompt_number": 26,
       "text": [
        "[u', includin', u'ent emaile', u'ush, annou', u'ding consu', u'un for the']"
       ]
      }
     ],
     "prompt_number": 26
    },
    {
     "cell_type": "code",
     "collapsed": false,
     "input": [
      "def jaccard_similarity(s1, s2):\n",
      "    return len(s1.intersection(s2))/float(len(s1.union(s2)))"
     ],
     "language": "python",
     "metadata": {},
     "outputs": [],
     "prompt_number": 8
    },
    {
     "cell_type": "code",
     "collapsed": false,
     "input": [
      "[[round(jaccard_similarity(docs[i], docs[j]), 3) for j in xrange(len(docs))] for i in xrange(len(docs))]"
     ],
     "language": "python",
     "metadata": {},
     "outputs": [
      {
       "metadata": {},
       "output_type": "pyout",
       "prompt_number": 9,
       "text": [
        "[[1.0, 0.796, 0.803, 0.051, 0.005],\n",
        " [0.796, 1.0, 0.986, 0.052, 0.004],\n",
        " [0.803, 0.986, 1.0, 0.052, 0.004],\n",
        " [0.051, 0.052, 0.052, 1.0, 0.011],\n",
        " [0.005, 0.004, 0.004, 0.011, 1.0]]"
       ]
      }
     ],
     "prompt_number": 9
    },
    {
     "cell_type": "heading",
     "level": 2,
     "metadata": {},
     "source": [
      "Shingling / MinHashing / LSH"
     ]
    },
    {
     "cell_type": "code",
     "collapsed": false,
     "input": [
      "def generate_shingles(text, k):\n",
      "    shingles = [text[j:j+k] for j in range(len(text) - k)]\n",
      "    return set([hash(s) % 2**bits for s in shingles])"
     ],
     "language": "python",
     "metadata": {},
     "outputs": [],
     "prompt_number": 10
    },
    {
     "cell_type": "code",
     "collapsed": false,
     "input": [
      "shingles = [generate_shingles(text, 10) for text in texts]"
     ],
     "language": "python",
     "metadata": {},
     "outputs": [],
     "prompt_number": 11
    },
    {
     "cell_type": "code",
     "collapsed": false,
     "input": [
      "list(shingles[0])[:5]"
     ],
     "language": "python",
     "metadata": {},
     "outputs": [
      {
       "metadata": {},
       "output_type": "pyout",
       "prompt_number": 12,
       "text": [
        "[3554747392, 222208002, 1339344555, 2846488582, 667975687]"
       ]
      }
     ],
     "prompt_number": 12
    },
    {
     "cell_type": "code",
     "collapsed": false,
     "input": [
      "def manhattan_similarity(s1, s2):\n",
      "    return sum([1.0  if v1==v2 else 0.0 for v1,v2 in zip(s1, s2)])/len(s1)"
     ],
     "language": "python",
     "metadata": {},
     "outputs": [],
     "prompt_number": 13
    },
    {
     "cell_type": "code",
     "collapsed": false,
     "input": [
      "hash_generators = [int(random.getrandbits(bits)) for _ in xrange(n)]"
     ],
     "language": "python",
     "metadata": {},
     "outputs": [],
     "prompt_number": 14
    },
    {
     "cell_type": "code",
     "collapsed": false,
     "input": [
      "minhashs = [[min([int(s^hash_generator) for s in doc]) for hash_generator in hash_generators] for doc in shingles]"
     ],
     "language": "python",
     "metadata": {},
     "outputs": [],
     "prompt_number": 15
    },
    {
     "cell_type": "code",
     "collapsed": false,
     "input": [
      "[[round(manhattan_similarity(minhashs[i], minhashs[j]), 3) for j in xrange(len(minhashs))] for i in xrange(len(minhashs))]"
     ],
     "language": "python",
     "metadata": {},
     "outputs": [
      {
       "metadata": {},
       "output_type": "pyout",
       "prompt_number": 16,
       "text": [
        "[[1.0, 0.9, 0.91, 0.06, 0.01],\n",
        " [0.9, 1.0, 0.99, 0.06, 0.01],\n",
        " [0.91, 0.99, 1.0, 0.06, 0.01],\n",
        " [0.06, 0.06, 0.06, 1.0, 0.0],\n",
        " [0.01, 0.01, 0.01, 0.0, 1.0]]"
       ]
      }
     ],
     "prompt_number": 16
    },
    {
     "cell_type": "code",
     "collapsed": false,
     "input": [
      "sigs = [[hash(tuple(doc[r*i:r*(i+1)])) % 2**bits for i in xrange(b)] for doc in minhashs]"
     ],
     "language": "python",
     "metadata": {},
     "outputs": [],
     "prompt_number": 17
    },
    {
     "cell_type": "code",
     "collapsed": false,
     "input": [
      "[[round(manhattan_similarity(sigs[i], sigs[j]), 3) > 0 for j in xrange(len(sigs))] for i in xrange(len(sigs))]"
     ],
     "language": "python",
     "metadata": {},
     "outputs": [
      {
       "metadata": {},
       "output_type": "pyout",
       "prompt_number": 18,
       "text": [
        "[[True, True, True, False, False],\n",
        " [True, True, True, False, False],\n",
        " [True, True, True, False, False],\n",
        " [False, False, False, True, False],\n",
        " [False, False, False, False, True]]"
       ]
      }
     ],
     "prompt_number": 18
    },
    {
     "cell_type": "code",
     "collapsed": false,
     "input": [
      "inverted_index = defaultdict(list)\n",
      "for i in xrange(len(sigs)):\n",
      "    for j in xrange(b):\n",
      "        inverted_index[sigs[i][j]].append(i)"
     ],
     "language": "python",
     "metadata": {},
     "outputs": [],
     "prompt_number": 19
    },
    {
     "cell_type": "code",
     "collapsed": false,
     "input": [
      "def dedup(doc_sigs, inverted_index):\n",
      "    dups = set([])\n",
      "    for sig in doc_sigs:\n",
      "        if sig in inverted_index:\n",
      "            dups = dups.union(inverted_index[sig])\n",
      "    return dups"
     ],
     "language": "python",
     "metadata": {},
     "outputs": [],
     "prompt_number": 20
    },
    {
     "cell_type": "code",
     "collapsed": false,
     "input": [
      "dedup(sigs[0], inverted_index)"
     ],
     "language": "python",
     "metadata": {},
     "outputs": [
      {
       "metadata": {},
       "output_type": "pyout",
       "prompt_number": 21,
       "text": [
        "{0, 1, 2}"
       ]
      }
     ],
     "prompt_number": 21
    },
    {
     "cell_type": "code",
     "collapsed": false,
     "input": [],
     "language": "python",
     "metadata": {},
     "outputs": []
    },
    {
     "cell_type": "code",
     "collapsed": false,
     "input": [],
     "language": "python",
     "metadata": {},
     "outputs": []
    }
   ],
   "metadata": {}
  }
 ]
}